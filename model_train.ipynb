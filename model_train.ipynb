{
 "cells": [
  {
   "cell_type": "code",
   "execution_count": 14,
   "metadata": {},
   "outputs": [],
   "source": [
    "import os\n",
    "os.environ['WANDB_SILENT'] = \"true\" \n",
    "os.environ['WANDB_CONSOLE'] = \"off\""
   ]
  },
  {
   "cell_type": "code",
   "execution_count": 15,
   "metadata": {},
   "outputs": [],
   "source": [
    "import pandas as pd\n",
    "import numpy as np\n",
    "from ast import literal_eval\n",
    "from sklearn.preprocessing import MultiLabelBinarizer\n",
    "from sklearn.model_selection import train_test_split\n",
    "import torch\n",
    "from torch.utils.data import TensorDataset, DataLoader\n",
    "\n",
    "data = pd.read_csv('movies_with_genres.csv')\n",
    "\n",
    "data['Embeddings'] = data['Embeddings'].apply(literal_eval)\n",
    "X = np.array(data['Embeddings'].tolist()) \n",
    "\n",
    "data['Genre'] = data['Genre'].apply(literal_eval)\n",
    "\n",
    "mlb = MultiLabelBinarizer()\n",
    "y = mlb.fit_transform(data['Genre'])  \n",
    "genre_classes = mlb.classes_\n",
    "\n",
    "X_train, X_test, y_train, y_test = train_test_split(\n",
    "    X, y, test_size=0.2, random_state=42\n",
    ")\n",
    "\n",
    "X_train = torch.tensor(X_train, dtype=torch.float32)\n",
    "y_train = torch.tensor(y_train, dtype=torch.float32)\n",
    "X_test = torch.tensor(X_test, dtype=torch.float32)\n",
    "y_test = torch.tensor(y_test, dtype=torch.float32)\n",
    "\n",
    "train_loader = DataLoader(TensorDataset(X_train, y_train), \n",
    "                         batch_size=32, \n",
    "                         shuffle=True)\n",
    "test_loader = DataLoader(TensorDataset(X_test, y_test),\n",
    "                        batch_size=32)\n",
    "\n",
    "model_results = {}\n"
   ]
  },
  {
   "cell_type": "code",
   "execution_count": 16,
   "metadata": {},
   "outputs": [
    {
     "data": {
      "text/html": [
       "<div>\n",
       "<style scoped>\n",
       "    .dataframe tbody tr th:only-of-type {\n",
       "        vertical-align: middle;\n",
       "    }\n",
       "\n",
       "    .dataframe tbody tr th {\n",
       "        vertical-align: top;\n",
       "    }\n",
       "\n",
       "    .dataframe thead th {\n",
       "        text-align: right;\n",
       "    }\n",
       "</style>\n",
       "<table border=\"1\" class=\"dataframe\">\n",
       "  <thead>\n",
       "    <tr style=\"text-align: right;\">\n",
       "      <th></th>\n",
       "      <th>Rank</th>\n",
       "      <th>Title</th>\n",
       "      <th>Genre</th>\n",
       "      <th>Description</th>\n",
       "      <th>Director</th>\n",
       "      <th>Actors</th>\n",
       "      <th>Year</th>\n",
       "      <th>Runtime (Minutes)</th>\n",
       "      <th>Rating</th>\n",
       "      <th>Votes</th>\n",
       "      <th>...</th>\n",
       "      <th>Horror</th>\n",
       "      <th>Music</th>\n",
       "      <th>Musical</th>\n",
       "      <th>Mystery</th>\n",
       "      <th>Romance</th>\n",
       "      <th>Sci-Fi</th>\n",
       "      <th>Sport</th>\n",
       "      <th>Thriller</th>\n",
       "      <th>War</th>\n",
       "      <th>Western</th>\n",
       "    </tr>\n",
       "  </thead>\n",
       "  <tbody>\n",
       "    <tr>\n",
       "      <th>0</th>\n",
       "      <td>1</td>\n",
       "      <td>Guardians of the Galaxy</td>\n",
       "      <td>[Action, Adventure, Sci-Fi]</td>\n",
       "      <td>a group of intergalactic criminals are forced ...</td>\n",
       "      <td>James Gunn</td>\n",
       "      <td>Chris Pratt, Vin Diesel, Bradley Cooper, Zoe S...</td>\n",
       "      <td>2014</td>\n",
       "      <td>121</td>\n",
       "      <td>8.1</td>\n",
       "      <td>757074</td>\n",
       "      <td>...</td>\n",
       "      <td>0</td>\n",
       "      <td>0</td>\n",
       "      <td>0</td>\n",
       "      <td>0</td>\n",
       "      <td>0</td>\n",
       "      <td>1</td>\n",
       "      <td>0</td>\n",
       "      <td>0</td>\n",
       "      <td>0</td>\n",
       "      <td>0</td>\n",
       "    </tr>\n",
       "    <tr>\n",
       "      <th>1</th>\n",
       "      <td>2</td>\n",
       "      <td>Prometheus</td>\n",
       "      <td>[Adventure, Mystery, Sci-Fi]</td>\n",
       "      <td>following clues to the origin of mankind a tea...</td>\n",
       "      <td>Ridley Scott</td>\n",
       "      <td>Noomi Rapace, Logan Marshall-Green, Michael Fa...</td>\n",
       "      <td>2012</td>\n",
       "      <td>124</td>\n",
       "      <td>7.0</td>\n",
       "      <td>485820</td>\n",
       "      <td>...</td>\n",
       "      <td>0</td>\n",
       "      <td>0</td>\n",
       "      <td>0</td>\n",
       "      <td>1</td>\n",
       "      <td>0</td>\n",
       "      <td>1</td>\n",
       "      <td>0</td>\n",
       "      <td>0</td>\n",
       "      <td>0</td>\n",
       "      <td>0</td>\n",
       "    </tr>\n",
       "    <tr>\n",
       "      <th>2</th>\n",
       "      <td>3</td>\n",
       "      <td>Split</td>\n",
       "      <td>[Horror, Thriller]</td>\n",
       "      <td>three girls are kidnapped by a man with a diag...</td>\n",
       "      <td>M. Night Shyamalan</td>\n",
       "      <td>James McAvoy, Anya Taylor-Joy, Haley Lu Richar...</td>\n",
       "      <td>2016</td>\n",
       "      <td>117</td>\n",
       "      <td>7.3</td>\n",
       "      <td>157606</td>\n",
       "      <td>...</td>\n",
       "      <td>1</td>\n",
       "      <td>0</td>\n",
       "      <td>0</td>\n",
       "      <td>0</td>\n",
       "      <td>0</td>\n",
       "      <td>0</td>\n",
       "      <td>0</td>\n",
       "      <td>1</td>\n",
       "      <td>0</td>\n",
       "      <td>0</td>\n",
       "    </tr>\n",
       "    <tr>\n",
       "      <th>3</th>\n",
       "      <td>4</td>\n",
       "      <td>Sing</td>\n",
       "      <td>[Animation, Comedy, Family]</td>\n",
       "      <td>in a city of humanoid animals a hustling theat...</td>\n",
       "      <td>Christophe Lourdelet</td>\n",
       "      <td>Matthew McConaughey,Reese Witherspoon, Seth Ma...</td>\n",
       "      <td>2016</td>\n",
       "      <td>108</td>\n",
       "      <td>7.2</td>\n",
       "      <td>60545</td>\n",
       "      <td>...</td>\n",
       "      <td>0</td>\n",
       "      <td>0</td>\n",
       "      <td>0</td>\n",
       "      <td>0</td>\n",
       "      <td>0</td>\n",
       "      <td>0</td>\n",
       "      <td>0</td>\n",
       "      <td>0</td>\n",
       "      <td>0</td>\n",
       "      <td>0</td>\n",
       "    </tr>\n",
       "    <tr>\n",
       "      <th>4</th>\n",
       "      <td>5</td>\n",
       "      <td>Suicide Squad</td>\n",
       "      <td>[Action, Adventure, Fantasy]</td>\n",
       "      <td>a secret government agency recruits some of th...</td>\n",
       "      <td>David Ayer</td>\n",
       "      <td>Will Smith, Jared Leto, Margot Robbie, Viola D...</td>\n",
       "      <td>2016</td>\n",
       "      <td>123</td>\n",
       "      <td>6.2</td>\n",
       "      <td>393727</td>\n",
       "      <td>...</td>\n",
       "      <td>0</td>\n",
       "      <td>0</td>\n",
       "      <td>0</td>\n",
       "      <td>0</td>\n",
       "      <td>0</td>\n",
       "      <td>0</td>\n",
       "      <td>0</td>\n",
       "      <td>0</td>\n",
       "      <td>0</td>\n",
       "      <td>0</td>\n",
       "    </tr>\n",
       "  </tbody>\n",
       "</table>\n",
       "<p>5 rows × 34 columns</p>\n",
       "</div>"
      ],
      "text/plain": [
       "   Rank                    Title                         Genre  \\\n",
       "0     1  Guardians of the Galaxy   [Action, Adventure, Sci-Fi]   \n",
       "1     2               Prometheus  [Adventure, Mystery, Sci-Fi]   \n",
       "2     3                    Split            [Horror, Thriller]   \n",
       "3     4                     Sing   [Animation, Comedy, Family]   \n",
       "4     5            Suicide Squad  [Action, Adventure, Fantasy]   \n",
       "\n",
       "                                         Description              Director  \\\n",
       "0  a group of intergalactic criminals are forced ...            James Gunn   \n",
       "1  following clues to the origin of mankind a tea...          Ridley Scott   \n",
       "2  three girls are kidnapped by a man with a diag...    M. Night Shyamalan   \n",
       "3  in a city of humanoid animals a hustling theat...  Christophe Lourdelet   \n",
       "4  a secret government agency recruits some of th...            David Ayer   \n",
       "\n",
       "                                              Actors  Year  Runtime (Minutes)  \\\n",
       "0  Chris Pratt, Vin Diesel, Bradley Cooper, Zoe S...  2014                121   \n",
       "1  Noomi Rapace, Logan Marshall-Green, Michael Fa...  2012                124   \n",
       "2  James McAvoy, Anya Taylor-Joy, Haley Lu Richar...  2016                117   \n",
       "3  Matthew McConaughey,Reese Witherspoon, Seth Ma...  2016                108   \n",
       "4  Will Smith, Jared Leto, Margot Robbie, Viola D...  2016                123   \n",
       "\n",
       "   Rating   Votes  ...  Horror  Music Musical Mystery  Romance  Sci-Fi  Sport  \\\n",
       "0     8.1  757074  ...       0      0       0       0        0       1      0   \n",
       "1     7.0  485820  ...       0      0       0       1        0       1      0   \n",
       "2     7.3  157606  ...       1      0       0       0        0       0      0   \n",
       "3     7.2   60545  ...       0      0       0       0        0       0      0   \n",
       "4     6.2  393727  ...       0      0       0       0        0       0      0   \n",
       "\n",
       "   Thriller  War  Western  \n",
       "0         0    0        0  \n",
       "1         0    0        0  \n",
       "2         1    0        0  \n",
       "3         0    0        0  \n",
       "4         0    0        0  \n",
       "\n",
       "[5 rows x 34 columns]"
      ]
     },
     "execution_count": 16,
     "metadata": {},
     "output_type": "execute_result"
    }
   ],
   "source": [
    "data.head()"
   ]
  },
  {
   "cell_type": "markdown",
   "metadata": {},
   "source": [
    "SVM"
   ]
  },
  {
   "cell_type": "code",
   "execution_count": 17,
   "metadata": {},
   "outputs": [
    {
     "name": "stdout",
     "output_type": "stream",
     "text": [
      "SVM Accuracy: 0.0350\n",
      "SVM F1 Score: 0.5069\n",
      "              precision    recall  f1-score   support\n",
      "\n",
      "      Action       0.56      0.59      0.57        56\n",
      "   Adventure       0.59      0.69      0.64        51\n",
      "   Animation       0.67      0.20      0.31        10\n",
      "   Biography       0.63      0.52      0.57        23\n",
      "      Comedy       0.51      0.57      0.54        49\n",
      "       Crime       0.45      0.50      0.47        28\n",
      "       Drama       0.65      0.63      0.64       106\n",
      "      Family       0.12      0.11      0.12         9\n",
      "     Fantasy       0.44      0.48      0.46        23\n",
      "     History       0.60      0.30      0.40        10\n",
      "      Horror       0.62      0.41      0.49        32\n",
      "       Music       0.50      1.00      0.67         1\n",
      "     Musical       0.00      0.00      0.00         1\n",
      "     Mystery       0.30      0.26      0.28        23\n",
      "     Romance       0.38      0.40      0.39        25\n",
      "      Sci-Fi       0.45      0.41      0.43        22\n",
      "       Sport       1.00      0.14      0.25         7\n",
      "    Thriller       0.27      0.29      0.28        34\n",
      "         War       0.00      0.00      0.00         4\n",
      "     Western       0.00      0.00      0.00         1\n",
      "\n",
      "   micro avg       0.52      0.50      0.51       515\n",
      "   macro avg       0.44      0.38      0.38       515\n",
      "weighted avg       0.52      0.50      0.50       515\n",
      " samples avg       0.54      0.53      0.49       515\n",
      "\n"
     ]
    },
    {
     "name": "stderr",
     "output_type": "stream",
     "text": [
      "c:\\Users\\yuexin\\anaconda3\\Lib\\site-packages\\sklearn\\metrics\\_classification.py:1509: UndefinedMetricWarning: Precision is ill-defined and being set to 0.0 in labels with no predicted samples. Use `zero_division` parameter to control this behavior.\n",
      "  _warn_prf(average, modifier, f\"{metric.capitalize()} is\", len(result))\n",
      "c:\\Users\\yuexin\\anaconda3\\Lib\\site-packages\\sklearn\\metrics\\_classification.py:1509: UndefinedMetricWarning: Precision is ill-defined and being set to 0.0 in samples with no predicted labels. Use `zero_division` parameter to control this behavior.\n",
      "  _warn_prf(average, modifier, f\"{metric.capitalize()} is\", len(result))\n"
     ]
    }
   ],
   "source": [
    "from sklearn.multioutput import MultiOutputClassifier \n",
    "from sklearn.svm import SVC\n",
    "from sklearn.metrics import accuracy_score, f1_score, classification_report\n",
    "\n",
    "svm_model = MultiOutputClassifier(SVC(kernel='linear', probability=True))\n",
    "svm_model.fit(X_train.numpy(), y_train.numpy())  \n",
    "\n",
    "svm_pred = svm_model.predict(X_test.numpy())\n",
    "svm_accuracy = accuracy_score(y_test.numpy(), svm_pred)\n",
    "svm_f1 = f1_score(y_test.numpy(), svm_pred, average='micro')\n",
    "\n",
    "model_results['SVM'] = {\n",
    "    'accuracy': svm_accuracy,\n",
    "    'f1': svm_f1,\n",
    "    'model': svm_model\n",
    "}\n",
    "\n",
    "print(f\"SVM Accuracy: {svm_accuracy:.4f}\")\n",
    "print(f\"SVM F1 Score: {svm_f1:.4f}\")\n",
    "print(classification_report(y_test.numpy(), svm_pred, target_names=genre_classes))"
   ]
  },
  {
   "cell_type": "code",
   "execution_count": 18,
   "metadata": {},
   "outputs": [
    {
     "name": "stdout",
     "output_type": "stream",
     "text": [
      "X_train shape: torch.Size([800, 768])\n",
      "y_train shape: torch.Size([800, 20])\n"
     ]
    }
   ],
   "source": [
    "import torch\n",
    "from torch.utils.data import DataLoader, TensorDataset\n",
    "\n",
    "if not isinstance(X_train, torch.Tensor):\n",
    "    X_train = torch.tensor(X_train, dtype=torch.float32)\n",
    "if not isinstance(y_train, torch.Tensor):\n",
    "    y_train = torch.tensor(y_train, dtype=torch.float32)\n",
    "\n",
    "print(\"X_train shape:\", X_train.shape) \n",
    "print(\"y_train shape:\", y_train.shape)  \n",
    "\n",
    "train_loader = DataLoader(TensorDataset(X_train, y_train), batch_size=32, shuffle=True)\n"
   ]
  },
  {
   "cell_type": "code",
   "execution_count": 19,
   "metadata": {},
   "outputs": [
    {
     "data": {
      "text/html": [],
      "text/plain": [
       "<IPython.core.display.HTML object>"
      ]
     },
     "metadata": {},
     "output_type": "display_data"
    },
    {
     "data": {
      "text/html": [],
      "text/plain": [
       "<IPython.core.display.HTML object>"
      ]
     },
     "metadata": {},
     "output_type": "display_data"
    },
    {
     "data": {
      "text/html": [],
      "text/plain": [
       "<IPython.core.display.HTML object>"
      ]
     },
     "metadata": {},
     "output_type": "display_data"
    },
    {
     "data": {
      "text/html": [],
      "text/plain": [
       "<IPython.core.display.HTML object>"
      ]
     },
     "metadata": {},
     "output_type": "display_data"
    },
    {
     "data": {
      "text/html": [],
      "text/plain": [
       "<IPython.core.display.HTML object>"
      ]
     },
     "metadata": {},
     "output_type": "display_data"
    },
    {
     "data": {
      "text/html": [],
      "text/plain": [
       "<IPython.core.display.HTML object>"
      ]
     },
     "metadata": {},
     "output_type": "display_data"
    }
   ],
   "source": [
    "import torch.nn as nn\n",
    "import torch.optim as optim\n",
    "from torch.utils.data import DataLoader, TensorDataset\n",
    "from sklearn.metrics import f1_score, accuracy_score\n",
    "import wandb\n",
    "\n",
    "wandb.login()\n",
    "\n",
    "\n",
    "class SimpleNN(nn.Module):\n",
    "    def __init__(self, input_size, output_size):\n",
    "        super(SimpleNN, self).__init__()\n",
    "        self.fc1 = nn.Linear(input_size, 128)\n",
    "        self.relu = nn.ReLU()\n",
    "        self.fc2 = nn.Linear(128, output_size)\n",
    "        self.sigmoid = nn.Sigmoid()\n",
    "    \n",
    "    def forward(self, x):\n",
    "        x = self.relu(self.fc1(x))\n",
    "        return self.sigmoid(self.fc2(x))\n",
    "\n",
    "learning_rates = [2e-5, 1e-5]\n",
    "num_epochs = [10, 20, 50]\n",
    "max_steps = 100000 \n",
    "\n",
    "best_simple_nn_f1 = 0\n",
    "best_simple_nn_acc = 0\n",
    "best_simple_nn_model = None\n",
    "\n",
    "for lr in learning_rates:\n",
    "    for epochs in num_epochs:\n",
    "        wandb.init(\n",
    "            project=\"movie_classification_simple_nn\",\n",
    "            config={\n",
    "                \"learning_rate\": lr,\n",
    "                \"epochs\": epochs,\n",
    "                \"batch_size\": 32, \n",
    "                \"max_steps\": max_steps\n",
    "            },\n",
    "            reinit=True\n",
    "        )\n",
    "\n",
    "        model = SimpleNN(input_size=768, output_size=y.shape[1])\n",
    "        criterion = nn.BCELoss()\n",
    "        optimizer = optim.Adam(model.parameters(), lr=lr)\n",
    "        train_loader = DataLoader(TensorDataset(X_train, y_train), batch_size=32, shuffle=True)\n",
    "        \n",
    "        model.train()\n",
    "        step = 0\n",
    "        for epoch in range(epochs):\n",
    "            if step >= max_steps:\n",
    "                break\n",
    "                \n",
    "            total_loss = 0\n",
    "            all_preds = []\n",
    "            all_labels = []\n",
    "            \n",
    "            for inputs, labels in train_loader:\n",
    "                if step >= max_steps:\n",
    "                    break\n",
    "                    \n",
    "                optimizer.zero_grad()\n",
    "                outputs = model(inputs)\n",
    "                loss = criterion(outputs, labels)\n",
    "                loss.backward()\n",
    "                optimizer.step()\n",
    "                \n",
    "                total_loss += loss.item()\n",
    "                preds = outputs > 0.5\n",
    "                all_preds.extend(preds.cpu().detach().numpy())\n",
    "                all_labels.extend(labels.cpu().numpy())\n",
    "                step += 1\n",
    "            \n",
    "            train_f1 = f1_score(all_labels, all_preds, average='micro')\n",
    "            wandb.log({\n",
    "                \"epoch\": epoch,\n",
    "                \"train_loss\": total_loss / len(train_loader),\n",
    "                \"train_f1\": train_f1,\n",
    "                \"steps\": step\n",
    "            })\n",
    "            \n",
    "            with torch.no_grad():\n",
    "                model.eval()\n",
    "                test_outputs = model(X_test)\n",
    "                test_preds = test_outputs > 0.5\n",
    "                test_f1 = f1_score(y_test.numpy(), test_preds.numpy(), average='micro')\n",
    "                test_acc = accuracy_score(y_test.numpy(), test_preds.numpy())\n",
    "                \n",
    "                wandb.log({\n",
    "                    \"test_f1\": test_f1,\n",
    "                    \"test_accuracy\": test_acc\n",
    "                })\n",
    "                \n",
    "                if test_f1 > best_simple_nn_f1:\n",
    "                    best_simple_nn_f1 = test_f1\n",
    "                    best_simple_nn_acc = test_acc\n",
    "                    best_simple_nn_model = model.state_dict()\n",
    "                    torch.save(model.state_dict(), \"best_simple_nn.pt\")\n",
    "        \n",
    "        wandb.finish()\n",
    "\n",
    "model_results['SimpleNN'] = {\n",
    "    'accuracy': best_simple_nn_acc,\n",
    "    'f1': best_simple_nn_f1,\n",
    "    'model_state': best_simple_nn_model \n",
    "}"
   ]
  },
  {
   "cell_type": "markdown",
   "metadata": {},
   "source": [
    "# cnn & rnn"
   ]
  },
  {
   "cell_type": "code",
   "execution_count": 20,
   "metadata": {},
   "outputs": [],
   "source": [
    "import torch\n",
    "import torch.nn as nn\n",
    "import torch.optim as optim\n",
    "from torch.utils.data import DataLoader, TensorDataset\n",
    "from sklearn.metrics import f1_score\n",
    "import wandb\n",
    "\n",
    "wandb.login()\n",
    "\n",
    "class TextCNN(nn.Module):\n",
    "    def __init__(self, input_dim, output_dim):\n",
    "        super().__init__()\n",
    "        self.conv1 = nn.Conv1d(1, 128, kernel_size=3, padding=1)\n",
    "        self.conv2 = nn.Conv1d(128, 64, kernel_size=3, padding=1)\n",
    "        self.fc = nn.Linear(64, output_dim)\n",
    "    \n",
    "    def forward(self, x):\n",
    "        x = x.unsqueeze(1)  \n",
    "        x = torch.relu(self.conv1(x))\n",
    "        x = torch.relu(self.conv2(x))\n",
    "        x = torch.max(x, dim=2)[0]  \n",
    "        return torch.sigmoid(self.fc(x))\n",
    "\n",
    "class TextRNN(nn.Module):\n",
    "    def __init__(self, input_size, output_size):\n",
    "        super().__init__()\n",
    "        self.rnn = nn.LSTM(input_size, 128, batch_first=True)\n",
    "        self.fc = nn.Linear(128, output_size)\n",
    "        self.dropout = nn.Dropout(0.2)\n",
    "        self.sigmoid = nn.Sigmoid()\n",
    "        \n",
    "    def forward(self, x):\n",
    "        x = x.unsqueeze(1)  \n",
    "        rnn_out, _ = self.rnn(x)\n",
    "        last_output = rnn_out[:, -1, :] \n",
    "        last_output = self.dropout(last_output)\n",
    "        return self.sigmoid(self.fc(last_output))"
   ]
  },
  {
   "cell_type": "code",
   "execution_count": 21,
   "metadata": {},
   "outputs": [
    {
     "data": {
      "text/html": [],
      "text/plain": [
       "<IPython.core.display.HTML object>"
      ]
     },
     "metadata": {},
     "output_type": "display_data"
    },
    {
     "data": {
      "text/html": [],
      "text/plain": [
       "<IPython.core.display.HTML object>"
      ]
     },
     "metadata": {},
     "output_type": "display_data"
    },
    {
     "data": {
      "text/html": [],
      "text/plain": [
       "<IPython.core.display.HTML object>"
      ]
     },
     "metadata": {},
     "output_type": "display_data"
    },
    {
     "data": {
      "text/html": [],
      "text/plain": [
       "<IPython.core.display.HTML object>"
      ]
     },
     "metadata": {},
     "output_type": "display_data"
    },
    {
     "data": {
      "text/html": [],
      "text/plain": [
       "<IPython.core.display.HTML object>"
      ]
     },
     "metadata": {},
     "output_type": "display_data"
    },
    {
     "data": {
      "text/html": [],
      "text/plain": [
       "<IPython.core.display.HTML object>"
      ]
     },
     "metadata": {},
     "output_type": "display_data"
    },
    {
     "name": "stdout",
     "output_type": "stream",
     "text": [
      "Final best CNN: F1=0.2857, Accuracy=0.0300\n"
     ]
    },
    {
     "data": {
      "text/html": [],
      "text/plain": [
       "<IPython.core.display.HTML object>"
      ]
     },
     "metadata": {},
     "output_type": "display_data"
    },
    {
     "data": {
      "text/html": [],
      "text/plain": [
       "<IPython.core.display.HTML object>"
      ]
     },
     "metadata": {},
     "output_type": "display_data"
    },
    {
     "data": {
      "text/html": [],
      "text/plain": [
       "<IPython.core.display.HTML object>"
      ]
     },
     "metadata": {},
     "output_type": "display_data"
    },
    {
     "data": {
      "text/html": [],
      "text/plain": [
       "<IPython.core.display.HTML object>"
      ]
     },
     "metadata": {},
     "output_type": "display_data"
    },
    {
     "data": {
      "text/html": [],
      "text/plain": [
       "<IPython.core.display.HTML object>"
      ]
     },
     "metadata": {},
     "output_type": "display_data"
    },
    {
     "data": {
      "text/html": [],
      "text/plain": [
       "<IPython.core.display.HTML object>"
      ]
     },
     "metadata": {},
     "output_type": "display_data"
    },
    {
     "name": "stdout",
     "output_type": "stream",
     "text": [
      "Final best RNN: F1=0.4023, Accuracy=0.0350\n",
      "\n",
      "Final Results:\n",
      "CNN - F1: 0.2857, Accuracy: 0.0300\n",
      "RNN - F1: 0.4023, Accuracy: 0.0350\n"
     ]
    }
   ],
   "source": [
    "import torch.nn as nn\n",
    "import torch.optim as optim\n",
    "from torch.utils.data import DataLoader, TensorDataset\n",
    "from sklearn.metrics import f1_score, accuracy_score\n",
    "import wandb\n",
    "\n",
    "wandb.login()\n",
    "\n",
    "best_cnn_f1 = 0\n",
    "best_cnn_acc = 0\n",
    "best_rnn_f1 = 0\n",
    "best_rnn_acc = 0\n",
    "\n",
    "learning_rates = [2e-5, 1e-5]\n",
    "num_epochs = [10, 20, 50]\n",
    "max_steps = 100000\n",
    "\n",
    "models = {\n",
    "    \"CNN\": TextCNN(input_dim=768, output_dim=y.shape[1]),\n",
    "    \"RNN\": TextRNN(input_size=768, output_size=y.shape[1])\n",
    "}\n",
    "\n",
    "for model_name, model in models.items():\n",
    "    best_f1 = 0\n",
    "    best_acc = 0\n",
    "    best_model_state = None\n",
    "    \n",
    "    for lr in learning_rates:\n",
    "        for epochs in num_epochs:\n",
    "            wandb.init(\n",
    "                project=\"movie_classification_cnn_rnn\",\n",
    "                config={\n",
    "                    \"model\": model_name,\n",
    "                    \"learning_rate\": lr,\n",
    "                    \"epochs\": epochs,\n",
    "                    \"batch_size\": 32,\n",
    "                    \"max_steps\": max_steps\n",
    "                },\n",
    "                name=f\"{model_name}_lr{lr}_ep{epochs}\",\n",
    "                reinit=True\n",
    "            )\n",
    "            \n",
    "            criterion = nn.BCELoss()\n",
    "            optimizer = optim.Adam(model.parameters(), lr=lr)\n",
    "            train_loader = DataLoader(TensorDataset(X_train, y_train), batch_size=32, shuffle=True)\n",
    "            \n",
    "            model.train()\n",
    "            step = 0\n",
    "            for epoch in range(epochs):\n",
    "                if step >= max_steps:\n",
    "                    break\n",
    "                \n",
    "                total_loss = 0\n",
    "                all_preds = []\n",
    "                all_labels = []\n",
    "                \n",
    "                for inputs, labels in train_loader:\n",
    "                    if step >= max_steps:\n",
    "                        break\n",
    "                    \n",
    "                    optimizer.zero_grad()\n",
    "                    outputs = model(inputs)\n",
    "                    loss = criterion(outputs, labels)\n",
    "                    loss.backward()\n",
    "                    optimizer.step()\n",
    "                    \n",
    "                    total_loss += loss.item()\n",
    "                    preds = outputs > 0.5\n",
    "                    all_preds.extend(preds.cpu().detach().numpy())\n",
    "                    all_labels.extend(labels.cpu().numpy())\n",
    "                    step += 1\n",
    "                \n",
    "                if len(all_labels) > 0:\n",
    "                    train_f1 = f1_score(all_labels, all_preds, average='micro')\n",
    "                    wandb.log({\n",
    "                        \"epoch\": epoch,\n",
    "                        \"train_loss\": total_loss / len(train_loader),\n",
    "                        \"train_f1\": train_f1,\n",
    "                        \"steps\": step\n",
    "                    })\n",
    "                    \n",
    "                    with torch.no_grad():\n",
    "                        model.eval()\n",
    "                        test_outputs = model(X_test)\n",
    "                        test_preds = test_outputs > 0.5\n",
    "                        test_f1 = f1_score(y_test.numpy(), test_preds.numpy(), average='micro')\n",
    "                        test_acc = accuracy_score(y_test.numpy(), test_preds.numpy())\n",
    "                        \n",
    "                        wandb.log({\n",
    "                            \"test_f1\": test_f1,\n",
    "                            \"test_accuracy\": test_acc\n",
    "                        })\n",
    "                        \n",
    "                        if test_f1 > best_f1:\n",
    "                            best_f1 = test_f1\n",
    "                            best_acc = test_acc\n",
    "                            best_model_state = model.state_dict()\n",
    "                            torch.save(best_model_state, f\"best_{model_name}.pt\")\n",
    "            \n",
    "            wandb.finish()\n",
    "    \n",
    "    if model_name == \"CNN\":\n",
    "        best_cnn_f1 = best_f1\n",
    "        best_cnn_acc = best_acc\n",
    "    elif model_name == \"RNN\":\n",
    "        best_rnn_f1 = best_f1\n",
    "        best_rnn_acc = best_acc\n",
    "    \n",
    "    print(f\"Final best {model_name}: F1={best_f1:.4f}, Accuracy={best_acc:.4f}\")\n",
    "\n",
    "print(\"\\nFinal Results:\")\n",
    "print(f\"CNN - F1: {best_cnn_f1:.4f}, Accuracy: {best_cnn_acc:.4f}\")\n",
    "print(f\"RNN - F1: {best_rnn_f1:.4f}, Accuracy: {best_rnn_acc:.4f}\")"
   ]
  },
  {
   "cell_type": "code",
   "execution_count": 22,
   "metadata": {},
   "outputs": [
    {
     "data": {
      "image/png": "[encoded data removed]",
      "text/plain": [
       "<Figure size 1200x500 with 2 Axes>"
      ]
     },
     "metadata": {},
     "output_type": "display_data"
    }
   ],
   "source": [
    "import matplotlib.pyplot as plt\n",
    "\n",
    "results = [\n",
    "    {\"Model\": \"SVM\", \"F1\": svm_f1, \"Accuracy\": svm_accuracy},\n",
    "    {\"Model\": \"SimpleNN\", \"F1\": best_simple_nn_f1, \"Accuracy\": best_simple_nn_acc},\n",
    "    {\"Model\": \"CNN\", \"F1\": best_cnn_f1, \"Accuracy\": best_cnn_acc},\n",
    "    {\"Model\": \"RNN\", \"F1\": best_rnn_f1, \"Accuracy\": best_rnn_acc}\n",
    "]\n",
    "\n",
    "plt.figure(figsize=(12, 5))\n",
    "plt.subplot(1, 2, 1)\n",
    "plt.bar([x[\"Model\"] for x in results], [x[\"F1\"] for x in results])\n",
    "plt.title(\"F1 Score Comparison\")\n",
    "\n",
    "plt.subplot(1, 2, 2)\n",
    "plt.bar([x[\"Model\"] for x in results], [x[\"Accuracy\"] for x in results])\n",
    "plt.title(\"Accuracy Comparison\")\n",
    "\n",
    "plt.tight_layout()\n",
    "plt.savefig(\"model_comparison.png\")"
   ]
  },
  {
   "cell_type": "markdown",
   "metadata": {},
   "source": [
    "# CROSS VALIDATION"
   ]
  },
  {
   "cell_type": "code",
   "execution_count": 23,
   "metadata": {},
   "outputs": [
    {
     "name": "stdout",
     "output_type": "stream",
     "text": [
      "Doing cross validation...\n",
      "\n",
      "=== SVM Fold 1/5 ===\n",
      "Fold 1 - F1: 0.5100, Accuracy: 0.0938\n",
      "\n",
      "=== SVM Fold 2/5 ===\n",
      "Fold 2 - F1: 0.4856, Accuracy: 0.0938\n",
      "\n",
      "=== SVM Fold 3/5 ===\n",
      "Fold 3 - F1: 0.4847, Accuracy: 0.0750\n",
      "\n",
      "=== SVM Fold 4/5 ===\n",
      "Fold 4 - F1: 0.5006, Accuracy: 0.0688\n",
      "\n",
      "=== SVM Fold 5/5 ===\n",
      "Fold 5 - F1: 0.4565, Accuracy: 0.0500\n",
      "\n",
      "=== SVM cross validation results ===\n",
      "Average F1: 0.4875\n",
      "Average Accuracy: 0.0763\n",
      "\n",
      "=== SimpleNN Fold 1/5 ===\n",
      "Fold 1 - F1: 0.2701, Accuracy: 0.0563\n",
      "\n",
      "=== SimpleNN Fold 2/5 ===\n",
      "Fold 2 - F1: 0.2617, Accuracy: 0.0437\n",
      "\n",
      "=== SimpleNN Fold 3/5 ===\n",
      "Fold 3 - F1: 0.2294, Accuracy: 0.0312\n",
      "\n",
      "=== SimpleNN Fold 4/5 ===\n",
      "Fold 4 - F1: 0.2841, Accuracy: 0.0500\n",
      "\n",
      "=== SimpleNN Fold 5/5 ===\n",
      "Fold 5 - F1: 0.2695, Accuracy: 0.0563\n",
      "\n",
      "=== SimpleNN cross validation results ===\n",
      "Average F1: 0.2630\n",
      "Average Accuracy: 0.0475\n",
      "\n",
      "=== RNN Fold 1/5 ===\n",
      "Fold 1 - F1: 0.2604, Accuracy: 0.0625\n",
      "\n",
      "=== RNN Fold 2/5 ===\n",
      "Fold 2 - F1: 0.1691, Accuracy: 0.0375\n",
      "\n",
      "=== RNN Fold 3/5 ===\n",
      "Fold 3 - F1: 0.2025, Accuracy: 0.0250\n",
      "\n",
      "=== RNN Fold 4/5 ===\n",
      "Fold 4 - F1: 0.2976, Accuracy: 0.0500\n",
      "\n",
      "=== RNN Fold 5/5 ===\n",
      "Fold 5 - F1: 0.2604, Accuracy: 0.0563\n",
      "\n",
      "=== RNN cross validation results ===\n",
      "Average F1: 0.2380\n",
      "Average Accuracy: 0.0462\n"
     ]
    }
   ],
   "source": [
    "\n",
    "import numpy as np\n",
    "from sklearn.model_selection import KFold\n",
    "from sklearn.metrics import f1_score, accuracy_score\n",
    "import torch\n",
    "from torch.utils.data import TensorDataset, DataLoader\n",
    "\n",
    "def cross_validate(model_type, X, y, n_splits=5):\n",
    "    kf = KFold(n_splits=n_splits, shuffle=True, random_state=42)\n",
    "    fold_results = []\n",
    "    input_size = X.shape[1]\n",
    "    output_size = y.shape[1]\n",
    "    \n",
    "    for fold, (train_idx, val_idx) in enumerate(kf.split(X)):\n",
    "        print(f\"\\n=== {model_type} Fold {fold + 1}/{n_splits} ===\")\n",
    "        \n",
    "        X_train, X_val = X[train_idx], X[val_idx]\n",
    "        y_train, y_val = y[train_idx], y[val_idx]\n",
    "        \n",
    "        if model_type == 'SVM':\n",
    "            model = MultiOutputClassifier(SVC(kernel='linear', probability=True))\n",
    "            model.fit(X_train, y_train)\n",
    "            preds = model.predict(X_val)\n",
    "            \n",
    "        else:\n",
    "            if model_type == 'SimpleNN':\n",
    "                model = SimpleNN(input_size=input_size, output_size=output_size)\n",
    "            elif model_type == 'CNN':\n",
    "                model = TextCNN(input_dim=input_size, output_dim=output_size)\n",
    "            elif model_type == 'RNN':\n",
    "                model = TextRNN(input_size=input_size, output_size=output_size)\n",
    "                \n",
    "            criterion = nn.BCELoss()\n",
    "            optimizer = optim.Adam(model.parameters(), lr=1e-4)\n",
    "            \n",
    "            train_dataset = TensorDataset(\n",
    "                torch.tensor(X_train, dtype=torch.float32),\n",
    "                torch.tensor(y_train, dtype=torch.float32)\n",
    "            )\n",
    "            val_dataset = TensorDataset(\n",
    "                torch.tensor(X_val, dtype=torch.float32),\n",
    "                torch.tensor(y_val, dtype=torch.float32)\n",
    "            )\n",
    "            \n",
    "            train_loader = DataLoader(train_dataset, batch_size=32, shuffle=True)\n",
    "            model.train()\n",
    "            for epoch in range(10): \n",
    "                for inputs, labels in train_loader:\n",
    "                    optimizer.zero_grad()\n",
    "                    outputs = model(inputs)\n",
    "                    loss = criterion(outputs, labels)\n",
    "                    loss.backward()\n",
    "                    optimizer.step()\n",
    "            \n",
    "            model.eval()\n",
    "            val_loader = DataLoader(val_dataset, batch_size=32)\n",
    "            all_preds, all_labels = [], []\n",
    "            with torch.no_grad():\n",
    "                for inputs, labels in val_loader:\n",
    "                    outputs = model(inputs)\n",
    "                    preds = outputs > 0.5\n",
    "                    all_preds.extend(preds.cpu().numpy())\n",
    "                    all_labels.extend(labels.cpu().numpy())\n",
    "            preds = np.array(all_preds)\n",
    "            y_val = np.array(all_labels)\n",
    "        \n",
    "        fold_f1 = f1_score(y_val, preds, average='micro')\n",
    "        fold_acc = accuracy_score(y_val, preds)\n",
    "        fold_results.append({'fold': fold+1, 'f1': fold_f1, 'accuracy': fold_acc})\n",
    "        print(f\"Fold {fold+1} - F1: {fold_f1:.4f}, Accuracy: {fold_acc:.4f}\")\n",
    "    \n",
    "    avg_f1 = np.mean([r['f1'] for r in fold_results])\n",
    "    avg_acc = np.mean([r['accuracy'] for r in fold_results])\n",
    "    print(f\"\\n=== {model_type} cross validation results ===\")\n",
    "    print(f\"Average F1: {avg_f1:.4f}\")\n",
    "    print(f\"Average Accuracy: {avg_acc:.4f}\")\n",
    "    \n",
    "    return fold_results\n",
    "\n",
    "X_cv = X_train.numpy() if isinstance(X_train, torch.Tensor) else X_train\n",
    "y_cv = y_train.numpy() if isinstance(y_train, torch.Tensor) else y_train\n",
    "\n",
    "print(\"Doing cross validation...\")\n",
    "\n",
    "svm_cv_results = cross_validate('SVM', X_cv, y_cv)\n",
    "\n",
    "simplenn_cv_results = cross_validate('SimpleNN', X_cv, y_cv)\n",
    "\n",
    "# cnn_cv_results = cross_validate('CNN', X_cv, y_cv)\n",
    "\n",
    "rnn_cv_results = cross_validate('RNN', X_cv, y_cv)\n"
   ]
  },
  {
   "cell_type": "code",
   "execution_count": 24,
   "metadata": {},
   "outputs": [
    {
     "name": "stdout",
     "output_type": "stream",
     "text": [
      "\n",
      "=== SVM cross validation results ===\n"
     ]
    },
    {
     "data": {
      "image/png": "[encoded data removed]",
      "text/plain": [
       "<Figure size 1000x400 with 2 Axes>"
      ]
     },
     "metadata": {},
     "output_type": "display_data"
    },
    {
     "name": "stdout",
     "output_type": "stream",
     "text": [
      "SVM average - F1: 0.4875, Accuracy: 0.0763\n",
      "\n",
      "=== SimpleNN cross validation results ===\n"
     ]
    },
    {
     "data": {
      "image/png": "[encoded data removed]",
      "text/plain": [
       "<Figure size 1000x400 with 2 Axes>"
      ]
     },
     "metadata": {},
     "output_type": "display_data"
    },
    {
     "name": "stdout",
     "output_type": "stream",
     "text": [
      "SimpleNN average - F1: 0.2630, Accuracy: 0.0475\n",
      "\n",
      "=== RNN cross validation results ===\n"
     ]
    },
    {
     "data": {
      "image/png": "[encoded data removed]",
      "text/plain": [
       "<Figure size 1000x400 with 2 Axes>"
      ]
     },
     "metadata": {},
     "output_type": "display_data"
    },
    {
     "name": "stdout",
     "output_type": "stream",
     "text": [
      "RNN average - F1: 0.2380, Accuracy: 0.0462\n",
      "\n",
      "=== cross validation results comparison ===\n",
      "| Model    |   Avg F1 |   Avg Accuracy |\n",
      "|:---------|---------:|---------------:|\n",
      "| SVM      | 0.487482 |        0.07625 |\n",
      "| SimpleNN | 0.262951 |        0.0475  |\n",
      "| RNN      | 0.237984 |        0.04625 |\n"
     ]
    },
    {
     "data": {
      "image/png": "[encoded data removed]",
      "text/plain": [
       "<Figure size 1200x500 with 2 Axes>"
      ]
     },
     "metadata": {},
     "output_type": "display_data"
    },
    {
     "data": {
      "text/html": [],
      "text/plain": [
       "<IPython.core.display.HTML object>"
      ]
     },
     "metadata": {},
     "output_type": "display_data"
    }
   ],
   "source": [
    "import pandas as pd\n",
    "import matplotlib.pyplot as plt\n",
    "\n",
    "def plot_cv_results(results_dict, title):\n",
    "    df = pd.DataFrame(results_dict)\n",
    "    plt.figure(figsize=(10, 4))\n",
    "    plt.subplot(1, 2, 1)\n",
    "    plt.plot(df['fold'], df['f1'], 'o-', label='F1 Score')\n",
    "    plt.axhline(y=df['f1'].mean(), color='r', linestyle='--', label='Mean F1')\n",
    "    plt.xlabel('Fold')\n",
    "    plt.ylabel('F1 Score')\n",
    "    plt.ylim(0, 1.0)\n",
    "    plt.legend()\n",
    "    \n",
    "    plt.subplot(1, 2, 2)\n",
    "    plt.plot(df['fold'], df['accuracy'], 'o-', label='Accuracy')\n",
    "    plt.axhline(y=df['accuracy'].mean(), color='r', linestyle='--', label='Mean Accuracy')\n",
    "    plt.xlabel('Fold')\n",
    "    plt.ylabel('Accuracy')\n",
    "    plt.ylim(0, 1.0)\n",
    "    plt.legend()\n",
    "    \n",
    "    plt.suptitle(f\"{title} Cross-Validation (n_splits={len(df)})\")\n",
    "    plt.tight_layout()\n",
    "    plt.show()\n",
    "\n",
    "print(\"\\n=== SVM cross validation results ===\")\n",
    "plot_cv_results(svm_cv_results, \"SVM\")\n",
    "print(f\"SVM average - F1: {np.mean([r['f1'] for r in svm_cv_results]):.4f}, \"\n",
    "      f\"Accuracy: {np.mean([r['accuracy'] for r in svm_cv_results]):.4f}\")\n",
    "\n",
    "print(\"\\n=== SimpleNN cross validation results ===\")\n",
    "plot_cv_results(simplenn_cv_results, \"SimpleNN\")\n",
    "print(f\"SimpleNN average - F1: {np.mean([r['f1'] for r in simplenn_cv_results]):.4f}, \"\n",
    "      f\"Accuracy: {np.mean([r['accuracy'] for r in simplenn_cv_results]):.4f}\")\n",
    "\n",
    "print(\"\\n=== RNN cross validation results ===\")\n",
    "plot_cv_results(rnn_cv_results, \"RNN\") \n",
    "print(f\"RNN average - F1: {np.mean([r['f1'] for r in rnn_cv_results]):.4f}, \"\n",
    "      f\"Accuracy: {np.mean([r['accuracy'] for r in rnn_cv_results]):.4f}\")\n",
    "\n",
    "print(\"\\n=== cross validation results comparison ===\")\n",
    "results_comparison = {\n",
    "    \"Model\": [\"SVM\", \"SimpleNN\", \"RNN\"],  \n",
    "    \"Avg F1\": [\n",
    "        np.mean([r['f1'] for r in svm_cv_results]),\n",
    "        np.mean([r['f1'] for r in simplenn_cv_results]),\n",
    "        np.mean([r['f1'] for r in rnn_cv_results])  \n",
    "    ],\n",
    "    \"Avg Accuracy\": [\n",
    "        np.mean([r['accuracy'] for r in svm_cv_results]),\n",
    "        np.mean([r['accuracy'] for r in simplenn_cv_results]),\n",
    "        np.mean([r['accuracy'] for r in rnn_cv_results])  \n",
    "    ]\n",
    "}\n",
    "\n",
    "print(pd.DataFrame(results_comparison).to_markdown(index=False))\n",
    "\n",
    "plt.figure(figsize=(12, 5))\n",
    "plt.subplot(1, 2, 1)\n",
    "plt.bar(results_comparison[\"Model\"], results_comparison[\"Avg F1\"], color=['#1f77b4', '#ff7f0e', '#2ca02c'])\n",
    "plt.title(\"Average F1 Score Comparison\")\n",
    "plt.ylim(0, 1.0)\n",
    "\n",
    "plt.subplot(1, 2, 2)\n",
    "plt.bar(results_comparison[\"Model\"], results_comparison[\"Avg Accuracy\"], color=['#1f77b4', '#ff7f0e', '#2ca02c'])\n",
    "plt.title(\"Average Accuracy Comparison\")\n",
    "plt.ylim(0, 1.0)\n",
    "\n",
    "plt.tight_layout()\n",
    "plt.show()\n",
    "\n",
    "wandb.init(project=\"movie_cross_validation\")\n",
    "wandb.log({\n",
    "    \"svm_cv_f1\": results_comparison[\"Avg F1\"][0],\n",
    "    \"svm_cv_acc\": results_comparison[\"Avg Accuracy\"][0],\n",
    "    \"simplenn_cv_f1\": results_comparison[\"Avg F1\"][1],\n",
    "    \"simplenn_cv_acc\": results_comparison[\"Avg Accuracy\"][1],\n",
    "    \"rnn_cv_f1\": results_comparison[\"Avg F1\"][2], \n",
    "    \"rnn_cv_acc\": results_comparison[\"Avg Accuracy\"][2], \n",
    "    \"model_comparison\": wandb.Table(dataframe=pd.DataFrame(results_comparison))\n",
    "})\n",
    "wandb.finish()"
   ]
  },
  {
   "cell_type": "code",
   "execution_count": 25,
   "metadata": {},
   "outputs": [
    {
     "data": {
      "image/png": "[encoded data removed]",
      "text/plain": [
       "<Figure size 640x480 with 1 Axes>"
      ]
     },
     "metadata": {},
     "output_type": "display_data"
    }
   ],
   "source": [
    "wrong_idx = np.where(svm_pred != y_test.numpy())[0]\n",
    "wrong_labels = y_test.numpy()[wrong_idx]\n",
    "wrong_dist = np.sum(wrong_labels, axis=0)\n",
    "plt.barh(genre_classes, wrong_dist)\n",
    "plt.title(\"Label distribution of wrong predictions\")\n",
    "plt.show()"
   ]
  },
  {
   "cell_type": "code",
   "execution_count": null,
   "metadata": {},
   "outputs": [],
   "source": []
  }
 ],
 "metadata": {
  "kernelspec": {
   "display_name": "base",
   "language": "python",
   "name": "python3"
  },
  "language_info": {
   "codemirror_mode": {
    "name": "ipython",
    "version": 3
   },
   "file_extension": ".py",
   "mimetype": "text/x-python",
   "name": "python",
   "nbconvert_exporter": "python",
   "pygments_lexer": "ipython3",
   "version": "3.11.5"
  }
 },
 "nbformat": 4,
 "nbformat_minor": 2
}
