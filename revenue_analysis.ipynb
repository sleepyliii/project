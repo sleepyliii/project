{
 "cells": [
  {
   "cell_type": "code",
   "execution_count": 1,
   "metadata": {},
   "outputs": [],
   "source": [
    "import pandas as pd\n",
    "\n",
    "df = pd.read_csv('movies_with_genres.csv')\n",
    "\n",
    "keep_columns = [\n",
    "    'Title', 'Year', 'Revenue (Millions)', 'Similar_Movies'\n",
    "]\n",
    "\n",
    "df_clean = df[keep_columns].copy()"
   ]
  },
  {
   "cell_type": "code",
   "execution_count": 2,
   "metadata": {},
   "outputs": [],
   "source": [
    "df_clean['Similar_Movies'] = df_clean['Similar_Movies'].apply(eval)\n",
    "\n",
    "similar_pairs = []\n",
    "for idx, row in df_clean.iterrows():\n",
    "    for similar_title in row['Similar_Movies']:\n",
    "        similar_pairs.append({\n",
    "            'Title_1': row['Title'],\n",
    "            'Title_2': similar_title,\n",
    "            'Year_1': row['Year'],\n",
    "            'Year_2': df_clean[df_clean['Title'] == similar_title]['Year'].values[0],\n",
    "            'Revenue_1': row['Revenue (Millions)'],\n",
    "            'Revenue_2': df_clean[df_clean['Title'] == similar_title]['Revenue (Millions)'].values[0],\n",
    "            'Group': 'A'  \n",
    "        })\n",
    "\n",
    "df_similar = pd.DataFrame(similar_pairs)"
   ]
  },
  {
   "cell_type": "code",
   "execution_count": 3,
   "metadata": {},
   "outputs": [],
   "source": [
    "import random\n",
    "\n",
    "dissimilar_pairs = []\n",
    "titles = df_clean['Title'].tolist()\n",
    "\n",
    "for _ in range(len(df_similar)): \n",
    "    title1, title2 = random.sample(titles, 2)\n",
    "    dissimilar_pairs.append({\n",
    "        'Title_1': title1,\n",
    "        'Title_2': title2,\n",
    "        'Year_1': df_clean[df_clean['Title'] == title1]['Year'].values[0],\n",
    "        'Year_2': df_clean[df_clean['Title'] == title2]['Year'].values[0],\n",
    "        'Revenue_1': df_clean[df_clean['Title'] == title1]['Revenue (Millions)'].values[0],\n",
    "        'Revenue_2': df_clean[df_clean['Title'] == title2]['Revenue (Millions)'].values[0],\n",
    "        'Group': 'B'  \n",
    "    })\n",
    "\n",
    "df_dissimilar = pd.DataFrame(dissimilar_pairs)"
   ]
  },
  {
   "cell_type": "code",
   "execution_count": 4,
   "metadata": {},
   "outputs": [],
   "source": [
    "df_pairs = pd.concat([df_similar, df_dissimilar], ignore_index=True)"
   ]
  },
  {
   "cell_type": "code",
   "execution_count": 5,
   "metadata": {},
   "outputs": [],
   "source": [
    "df_pairs['Year_Diff'] = abs(df_pairs['Year_1'] - df_pairs['Year_2'])\n",
    "df_pairs = df_pairs[df_pairs['Year_Diff'] <= 2]  "
   ]
  },
  {
   "cell_type": "code",
   "execution_count": 6,
   "metadata": {},
   "outputs": [],
   "source": [
    "df_pairs['Revenue_Diff'] = abs(df_pairs['Revenue_1'] - df_pairs['Revenue_2'])"
   ]
  },
  {
   "cell_type": "code",
   "execution_count": 7,
   "metadata": {},
   "outputs": [
    {
     "data": {
      "text/html": [
       "<div>\n",
       "<style scoped>\n",
       "    .dataframe tbody tr th:only-of-type {\n",
       "        vertical-align: middle;\n",
       "    }\n",
       "\n",
       "    .dataframe tbody tr th {\n",
       "        vertical-align: top;\n",
       "    }\n",
       "\n",
       "    .dataframe thead th {\n",
       "        text-align: right;\n",
       "    }\n",
       "</style>\n",
       "<table border=\"1\" class=\"dataframe\">\n",
       "  <thead>\n",
       "    <tr style=\"text-align: right;\">\n",
       "      <th></th>\n",
       "      <th>Title_1</th>\n",
       "      <th>Title_2</th>\n",
       "      <th>Year_1</th>\n",
       "      <th>Year_2</th>\n",
       "      <th>Revenue_1</th>\n",
       "      <th>Revenue_2</th>\n",
       "      <th>Group</th>\n",
       "      <th>Year_Diff</th>\n",
       "      <th>Revenue_Diff</th>\n",
       "    </tr>\n",
       "  </thead>\n",
       "  <tbody>\n",
       "    <tr>\n",
       "      <th>0</th>\n",
       "      <td>Guardians of the Galaxy</td>\n",
       "      <td>Suicide Squad</td>\n",
       "      <td>2014</td>\n",
       "      <td>2016</td>\n",
       "      <td>333.13</td>\n",
       "      <td>325.02</td>\n",
       "      <td>A</td>\n",
       "      <td>2</td>\n",
       "      <td>8.11</td>\n",
       "    </tr>\n",
       "    <tr>\n",
       "      <th>1</th>\n",
       "      <td>Guardians of the Galaxy</td>\n",
       "      <td>Interstellar</td>\n",
       "      <td>2014</td>\n",
       "      <td>2014</td>\n",
       "      <td>333.13</td>\n",
       "      <td>187.99</td>\n",
       "      <td>A</td>\n",
       "      <td>0</td>\n",
       "      <td>145.14</td>\n",
       "    </tr>\n",
       "    <tr>\n",
       "      <th>2</th>\n",
       "      <td>Guardians of the Galaxy</td>\n",
       "      <td>Star Wars: Episode VII - The Force Awakens</td>\n",
       "      <td>2014</td>\n",
       "      <td>2015</td>\n",
       "      <td>333.13</td>\n",
       "      <td>936.63</td>\n",
       "      <td>A</td>\n",
       "      <td>1</td>\n",
       "      <td>603.50</td>\n",
       "    </tr>\n",
       "    <tr>\n",
       "      <th>4</th>\n",
       "      <td>Guardians of the Galaxy</td>\n",
       "      <td>Hardcore Henry</td>\n",
       "      <td>2014</td>\n",
       "      <td>2015</td>\n",
       "      <td>333.13</td>\n",
       "      <td>9.24</td>\n",
       "      <td>A</td>\n",
       "      <td>1</td>\n",
       "      <td>323.89</td>\n",
       "    </tr>\n",
       "    <tr>\n",
       "      <th>5</th>\n",
       "      <td>Guardians of the Galaxy</td>\n",
       "      <td>Battleship</td>\n",
       "      <td>2014</td>\n",
       "      <td>2012</td>\n",
       "      <td>333.13</td>\n",
       "      <td>65.17</td>\n",
       "      <td>A</td>\n",
       "      <td>2</td>\n",
       "      <td>267.96</td>\n",
       "    </tr>\n",
       "    <tr>\n",
       "      <th>...</th>\n",
       "      <td>...</td>\n",
       "      <td>...</td>\n",
       "      <td>...</td>\n",
       "      <td>...</td>\n",
       "      <td>...</td>\n",
       "      <td>...</td>\n",
       "      <td>...</td>\n",
       "      <td>...</td>\n",
       "      <td>...</td>\n",
       "    </tr>\n",
       "    <tr>\n",
       "      <th>6846</th>\n",
       "      <td>Trainwreck</td>\n",
       "      <td>War Dogs</td>\n",
       "      <td>2015</td>\n",
       "      <td>2016</td>\n",
       "      <td>110.01</td>\n",
       "      <td>43.02</td>\n",
       "      <td>B</td>\n",
       "      <td>1</td>\n",
       "      <td>66.99</td>\n",
       "    </tr>\n",
       "    <tr>\n",
       "      <th>6849</th>\n",
       "      <td>Lowriders</td>\n",
       "      <td>The Babadook</td>\n",
       "      <td>2016</td>\n",
       "      <td>2014</td>\n",
       "      <td>4.21</td>\n",
       "      <td>0.92</td>\n",
       "      <td>B</td>\n",
       "      <td>2</td>\n",
       "      <td>3.29</td>\n",
       "    </tr>\n",
       "    <tr>\n",
       "      <th>6852</th>\n",
       "      <td>The Lone Ranger</td>\n",
       "      <td>Bridge of Spies</td>\n",
       "      <td>2013</td>\n",
       "      <td>2015</td>\n",
       "      <td>89.29</td>\n",
       "      <td>72.31</td>\n",
       "      <td>B</td>\n",
       "      <td>2</td>\n",
       "      <td>16.98</td>\n",
       "    </tr>\n",
       "    <tr>\n",
       "      <th>6860</th>\n",
       "      <td>Brimstone</td>\n",
       "      <td>Solace</td>\n",
       "      <td>2016</td>\n",
       "      <td>2015</td>\n",
       "      <td>NaN</td>\n",
       "      <td>NaN</td>\n",
       "      <td>B</td>\n",
       "      <td>1</td>\n",
       "      <td>NaN</td>\n",
       "    </tr>\n",
       "    <tr>\n",
       "      <th>6861</th>\n",
       "      <td>Wrath of the Titans</td>\n",
       "      <td>Source Code</td>\n",
       "      <td>2012</td>\n",
       "      <td>2011</td>\n",
       "      <td>83.64</td>\n",
       "      <td>54.70</td>\n",
       "      <td>B</td>\n",
       "      <td>1</td>\n",
       "      <td>28.94</td>\n",
       "    </tr>\n",
       "  </tbody>\n",
       "</table>\n",
       "<p>3189 rows × 9 columns</p>\n",
       "</div>"
      ],
      "text/plain": [
       "                      Title_1                                     Title_2  \\\n",
       "0     Guardians of the Galaxy                               Suicide Squad   \n",
       "1     Guardians of the Galaxy                                Interstellar   \n",
       "2     Guardians of the Galaxy  Star Wars: Episode VII - The Force Awakens   \n",
       "4     Guardians of the Galaxy                              Hardcore Henry   \n",
       "5     Guardians of the Galaxy                                  Battleship   \n",
       "...                       ...                                         ...   \n",
       "6846               Trainwreck                                    War Dogs   \n",
       "6849                Lowriders                                The Babadook   \n",
       "6852          The Lone Ranger                             Bridge of Spies   \n",
       "6860                Brimstone                                      Solace   \n",
       "6861      Wrath of the Titans                                 Source Code   \n",
       "\n",
       "      Year_1  Year_2  Revenue_1  Revenue_2 Group  Year_Diff  Revenue_Diff  \n",
       "0       2014    2016     333.13     325.02     A          2          8.11  \n",
       "1       2014    2014     333.13     187.99     A          0        145.14  \n",
       "2       2014    2015     333.13     936.63     A          1        603.50  \n",
       "4       2014    2015     333.13       9.24     A          1        323.89  \n",
       "5       2014    2012     333.13      65.17     A          2        267.96  \n",
       "...      ...     ...        ...        ...   ...        ...           ...  \n",
       "6846    2015    2016     110.01      43.02     B          1         66.99  \n",
       "6849    2016    2014       4.21       0.92     B          2          3.29  \n",
       "6852    2013    2015      89.29      72.31     B          2         16.98  \n",
       "6860    2016    2015        NaN        NaN     B          1           NaN  \n",
       "6861    2012    2011      83.64      54.70     B          1         28.94  \n",
       "\n",
       "[3189 rows x 9 columns]"
      ]
     },
     "execution_count": 7,
     "metadata": {},
     "output_type": "execute_result"
    }
   ],
   "source": [
    "df_pairs"
   ]
  },
  {
   "cell_type": "code",
   "execution_count": 8,
   "metadata": {},
   "outputs": [],
   "source": [
    "import pandas as pd\n",
    "from scipy import stats\n",
    "\n",
    "group_A = df_pairs[df_pairs['Group'] == 'A']['Revenue_Diff']\n",
    "group_B = df_pairs[df_pairs['Group'] == 'B']['Revenue_Diff']"
   ]
  },
  {
   "cell_type": "code",
   "execution_count": 15,
   "metadata": {},
   "outputs": [
    {
     "name": "stdout",
     "output_type": "stream",
     "text": [
      "Cleaned Group A size: 1242\n",
      "Cleaned Group B size: 1100\n"
     ]
    }
   ],
   "source": [
    "group_A_clean = group_A.dropna()\n",
    "group_B_clean = group_B.dropna()\n",
    "\n",
    "print(\"Cleaned Group A size:\", len(group_A_clean))  \n",
    "print(\"Cleaned Group B size:\", len(group_B_clean))  "
   ]
  },
  {
   "cell_type": "code",
   "execution_count": 16,
   "metadata": {},
   "outputs": [
    {
     "name": "stdout",
     "output_type": "stream",
     "text": [
      "Group A normality p-value: 1.0000\n",
      "Group B normality p-value: 1.0000\n"
     ]
    }
   ],
   "source": [
    "_, p_A = stats.shapiro(group_A)\n",
    "_, p_B = stats.shapiro(group_B)\n",
    "\n",
    "print(f\"Group A normality p-value: {p_A:.4f}\")\n",
    "print(f\"Group B normality p-value: {p_B:.4f}\")\n"
   ]
  },
  {
   "cell_type": "code",
   "execution_count": 18,
   "metadata": {},
   "outputs": [
    {
     "name": "stdout",
     "output_type": "stream",
     "text": [
      "T-statistic: -3.1489, P-value: 0.0017\n",
      "Reject H₀: Similar movies have significantly different revenue differences.\n"
     ]
    }
   ],
   "source": [
    "from scipy import stats\n",
    "t_stat, p_value = stats.ttest_ind(group_A_clean, group_B_clean, equal_var=True)\n",
    "\n",
    "print(f\"T-statistic: {t_stat:.4f}, P-value: {p_value:.4f}\")\n",
    "\n",
    "if p_value < 0.05:\n",
    "    print(\"Reject H₀: Similar movies have significantly different revenue differences.\")\n",
    "else:\n",
    "    print(\"Fail to reject H₀: No significant revenue difference between groups.\")"
   ]
  },
  {
   "cell_type": "code",
   "execution_count": 20,
   "metadata": {},
   "outputs": [
    {
     "data": {
      "image/png": "[encoded data removed]",
      "text/plain": [
       "<Figure size 1000x600 with 1 Axes>"
      ]
     },
     "metadata": {},
     "output_type": "display_data"
    }
   ],
   "source": [
    "import seaborn as sns\n",
    "import matplotlib.pyplot as plt\n",
    "\n",
    "plt.figure(figsize=(10, 6))\n",
    "sns.boxplot(x='Group', y='Revenue_Diff', data=df_pairs.dropna())\n",
    "plt.title(\"Revenue Differences: Similar (A) vs. Dissimilar (B) Movie Pairs\")\n",
    "plt.ylabel(\"Revenue Difference ($ Millions)\")\n",
    "plt.show()"
   ]
  },
  {
   "cell_type": "code",
   "execution_count": null,
   "metadata": {},
   "outputs": [],
   "source": []
  }
 ],
 "metadata": {
  "kernelspec": {
   "display_name": "base",
   "language": "python",
   "name": "python3"
  },
  "language_info": {
   "codemirror_mode": {
    "name": "ipython",
    "version": 3
   },
   "file_extension": ".py",
   "mimetype": "text/x-python",
   "name": "python",
   "nbconvert_exporter": "python",
   "pygments_lexer": "ipython3",
   "version": "3.11.5"
  }
 },
 "nbformat": 4,
 "nbformat_minor": 2
}
